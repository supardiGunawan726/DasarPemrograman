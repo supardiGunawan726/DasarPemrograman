{
 "cells": [
  {
   "cell_type": "markdown",
   "metadata": {},
   "source": [
    "# Tugas Input dan Output String "
   ]
  },
  {
   "cell_type": "markdown",
   "metadata": {},
   "source": [
    "#### 1. Buatlah biodata sederhana dengan menggunakan fungsi input(), dan output variabel dengan fungsi format()."
   ]
  },
  {
   "cell_type": "code",
   "execution_count": 1,
   "metadata": {},
   "outputs": [
    {
     "name": "stdout",
     "output_type": "stream",
     "text": [
      "Masukan nama kamu: Supardi G\n",
      "Masukan program studi kamu: Teknik Informatika\n",
      "Masukan nim kamu: 20220040084\n",
      "Nama mahasiswa: Supardi G\n",
      "Program studi: Teknik Informatika\n",
      "Nim: 20220040084\n"
     ]
    }
   ],
   "source": [
    "nama = input(\"Masukan nama kamu: \")\n",
    "prodi = input(\"Masukan program studi kamu: \")\n",
    "nim = input(\"Masukan nim kamu: \")\n",
    "\n",
    "print(\"Nama mahasiswa: {nama}\".format(nama = nama))\n",
    "print(\"Program studi: {prodi}\".format(prodi = prodi))\n",
    "print(\"Nim: {nim}\".format(nim = nim))"
   ]
  },
  {
   "cell_type": "markdown",
   "metadata": {},
   "source": [
    "#### 2. Jika terdapat kalimat UNIVERSITAS NUSA PUTRA SUKABUMI, buatlah kode program untuk menampilkan output:\n",
    "\n",
    "a. putra nusa</br>\n",
    "b. NIVERSITAS NSA PTRA SKABMI</br>\n",
    "c. SUKABUMI PUTRA NUSA UNIVERSITAS</br>\n",
    "d. UNPS</br>\n",
    "e. TAS SAPU BUMI</br>"
   ]
  },
  {
   "cell_type": "code",
   "execution_count": 2,
   "metadata": {},
   "outputs": [
    {
     "name": "stdout",
     "output_type": "stream",
     "text": [
      "putra nusa\n",
      "NIVERSITAS NSA PTRA SKABMI\n",
      "SUKABUMI PUTRA NUSA UNIVERSITAS\n",
      "UNPS\n",
      "TAS SAPU BUMI\n"
     ]
    }
   ],
   "source": [
    "kalimat = \"UNIVERSITAS NUSA PUTRA SUKABUMI\"\n",
    "listKata = kalimat.split(\" \");\n",
    "\n",
    "a = \" \".join([listKata[2].lower(), listKata[1].lower()])\n",
    "b = kalimat[1:13] + kalimat[14:18] + kalimat[19:24] + kalimat[25:28] + kalimat[29:31]\n",
    "c = \" \".join(reversed(listKata))\n",
    "d = listKata[0][0] + listKata[1][0] + listKata[2][0] + listKata[3][0]\n",
    "e = \" \".join([listKata[0][-3:], listKata[1][-2:] + listKata[2][:2], listKata[3][-4:]])\n",
    "\n",
    "print(a) # output: putra nusa\n",
    "print(b) # output: NIVERSITAS NSA PTRA SKABMI\n",
    "print(c) # output: SUKABUMI PUTRA NUSA UNIVERSITAS\n",
    "print(d) # output: UNPS\n",
    "print(e) # output: TAS SAPU BUMI"
   ]
  }
 ],
 "metadata": {
  "kernelspec": {
   "display_name": "Python 3 (ipykernel)",
   "language": "python",
   "name": "python3"
  },
  "language_info": {
   "codemirror_mode": {
    "name": "ipython",
    "version": 3
   },
   "file_extension": ".py",
   "mimetype": "text/x-python",
   "name": "python",
   "nbconvert_exporter": "python",
   "pygments_lexer": "ipython3",
   "version": "3.9.12"
  },
  "vscode": {
   "interpreter": {
    "hash": "e7370f93d1d0cde622a1f8e1c04877d8463912d04d973331ad4851f04de6915a"
   }
  }
 },
 "nbformat": 4,
 "nbformat_minor": 2
}
