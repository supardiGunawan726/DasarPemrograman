{
 "cells": [
  {
   "cell_type": "markdown",
   "id": "34ff6ca0",
   "metadata": {},
   "source": [
    "# Dictionary"
   ]
  },
  {
   "cell_type": "code",
   "execution_count": null,
   "id": "d78944cd",
   "metadata": {},
   "outputs": [],
   "source": [
    "mahasiswa = {\n",
    "    \"nama\": \"Indah Puspitasari\",\n",
    "    \"kelas\": \"TI 22H\",\n",
    "    \"jurusan\": \"Teknik Informatika\"\n",
    "}"
   ]
  },
  {
   "cell_type": "markdown",
   "id": "7a98d56a",
   "metadata": {},
   "source": [
    "## Pengertian Dictionary\n",
    "\n",
    "Dictionary adalah tipe data pada python yang berfungsi untuk menyimpan kumpulan data/nilai dengan pendekatan “key-value”.\n",
    "\n",
    "Dictionary sendiri memiliki dua buah komponen inti:\n",
    "1. Yang pertama adalah `key`, ia merupakan nama atribut suatu item pada dictionary.\n",
    "2. Yang kedua adalah `value`, ia adalah nilai yang disimpan pada suatu atribut.\n",
    "\n",
    "Pada contoh diatas, variabel `mahasiswa` adalah sebuah `Dictionary` yang memiliki `key`. Setiap key diisi dengan sebuah nilai atau value. Berikut adalah kumpulan `key` diikuti dengan nilainya dari variabel `mahasiswa`:\n",
    "1. `nama`, nilainya adalah `Indah Puspitasari`\n",
    "2. `kelas`, nilainya adalah `TI22H`\n",
    "3. `jurusan`, nilainya adalah `Teknik Informatika`"
   ]
  },
  {
   "cell_type": "markdown",
   "id": "82ce0e07",
   "metadata": {},
   "source": [
    "## Sifat Dictionary\n",
    "\n",
    "Dictionary items memiliki 3 sifat, yaitu:\n",
    "1. `Unordered` - tidak berurutan\n",
    "2. `Changeable` - bisa diubah\n",
    "3. `Unique` - alias tidak bisa menerima dua keys yang sama\n",
    "\n",
    "`Unordered` artinya ia tidak berurutan, sehingga key/atribut yang pertama kali kita definisikan, tidak berarti dia akan benar-benar menjadi yang “pertama” dibandingkan dengan key yang lainnya. Juga, unordered berarti tidak bisa diakses menggunakan index (integer) sebagaimana halnya list.\n",
    "\n",
    "Sedangkan `changeable` artinya kita bisa kita mengubah value yang telah kita masukkan ke dalam sebuah dictionary. Hal ini berbeda dengan tipe data set mau pun tuple yang mana keduanya bersifat immutable alias tidak bisa diubah.\n",
    "\n",
    "Dan yang terakhir, dictionary tidak bisa memiliki lebih dari satu key yang sama karena ia bersifat `unique`. Sehingga jika ada dua buah key yang sama, key yang didefinisikan terakhir akan menimpa nilai dari key yang didefinisikan lebih awal.\n",
    "\n",
    "Perhatikan contoh berikut:"
   ]
  },
  {
   "cell_type": "code",
   "execution_count": 5,
   "id": "4a168f70",
   "metadata": {},
   "outputs": [
    {
     "name": "stdout",
     "output_type": "stream",
     "text": [
      "Menu Masakan Enak Tradisional\n"
     ]
    }
   ],
   "source": [
    "artikel = {\n",
    "  \"judul\": \"Menu Masakan Enak\",\n",
    "  \"judul\": \"Menu Masakan Enak Tradisional\"\n",
    "}\n",
    "\n",
    "print(artikel.get(\"judul\"))"
   ]
  },
  {
   "cell_type": "markdown",
   "id": "c0b9de3e",
   "metadata": {},
   "source": [
    "Kode program di atas akan menghasilkan output:\n",
    "\n",
    "```\n",
    "Menu Masakan Enak Tradisional\n",
    "```"
   ]
  },
  {
   "cell_type": "markdown",
   "id": "2a1f1524",
   "metadata": {},
   "source": [
    "Kita bisa perhatikan bahwa pada dictionary `artikel` di atas, terdapat dua buah item dengan nama `“judul”`, akan tetapi ketika kita tampilkan hasilnya hanya nilai yang terakhir kita masukkan.\n",
    "\n",
    "Selain 3 sifat yang telah disebutkan, item pada dictionary juga bisa menerima berbagai macam tipe data, mulai dari tipe data asli mau pun tipe data terusan seperti objek.\n",
    "\n",
    "Yang artinya, dictionary juga bisa memiliki value berupa dictionary juga.\n",
    "\n",
    "Contoh:"
   ]
  },
  {
   "cell_type": "code",
   "execution_count": 6,
   "id": "9a68c422",
   "metadata": {},
   "outputs": [],
   "source": [
    "mahasiswa = {\n",
    "    \"nama\": \"Supardi G\",\n",
    "    \"alamat\": {\n",
    "        \"kota\": \"Cianjur\",\n",
    "        \"provinsi\": \"Jawa Barat\"\n",
    "    }\n",
    "}"
   ]
  },
  {
   "cell_type": "markdown",
   "id": "00ee6e27",
   "metadata": {},
   "source": [
    "## Cara Membuat Dictionary\n",
    "\n",
    "Berikutnya adalah bagaimana cara membuat dictionary pada python.\n",
    "\n",
    "Untuk membuatnya, terdapat 2 cara:\n",
    "\n",
    "1. Yang pertama dengan tanda kurung kurawal {}.\n",
    "2. Dan yang kedua bisa menggunakan fungsi atau konstruktor dict().\n",
    "\n",
    "Perhatikan contoh berikut:"
   ]
  },
  {
   "cell_type": "code",
   "execution_count": null,
   "id": "f0cf7102",
   "metadata": {},
   "outputs": [],
   "source": [
    "# cara pertama\n",
    "buku = {\n",
    "  \"judul\": \"Daun Yang Jatuh Tidak Pernah Membenci Angin\",\n",
    "  \"penulis\": \"Tere Liye\"\n",
    "}\n",
    "\n",
    "# cara kedua\n",
    "buku = dict(\n",
    "  judul=\"Daun Yang Jatuh Tidak Pernah Membenci Angin\",\n",
    "  penulis=\"Tere Liye\"\n",
    ")"
   ]
  },
  {
   "cell_type": "markdown",
   "id": "bd7bc5d0",
   "metadata": {},
   "source": [
    "## Cara Mengakses Item Pada Dictionary\n",
    "\n",
    "Kita bisa mengakses item pada dictionary dengan dua cara:\n",
    "\n",
    "* dengan menggunakan kurung siku ([])\n",
    "* atau dengan menggunakan fungsi get()\n",
    "\n",
    "Perhatikan contoh berikut:"
   ]
  },
  {
   "cell_type": "code",
   "execution_count": 7,
   "id": "20964493",
   "metadata": {},
   "outputs": [
    {
     "name": "stdout",
     "output_type": "stream",
     "text": [
      "Judul: Belajar Dictionary Pada Python 3\n",
      "Tanggal: 01 Februari 2021\n",
      "Facebook share: 0\n",
      "Twitter share: 2\n"
     ]
    }
   ],
   "source": [
    "pertemuan_hari_ini = {\n",
    "  \"judul\": \"Belajar Dictionary Pada Python 3\",\n",
    "  \"tanggal\": \"01 Februari 2021\",\n",
    "  \"kategori\": [\n",
    "    \"Python\", \"Python Dasar\"\n",
    "  ],\n",
    "  \"page_views\": 10,\n",
    "  \"published\": True,\n",
    "  \"share_count\": {\n",
    "    \"facebook\": 0,\n",
    "    \"twitter\": 2\n",
    "  }\n",
    "}\n",
    "\n",
    "# Kita bisa mengaksesnya dengan:\n",
    "\n",
    "print('Judul:', pertemuan_hari_ini.get('judul'))\n",
    "# atau\n",
    "print('Tanggal:', pertemuan_hari_ini['tanggal'])\n",
    "\n",
    "# bisa menggunakan fungsi berantai untuk dictionary bertingkat\n",
    "print('Facebook share:', pertemuan_hari_ini.get('share_count').get('facebook'))\n",
    "# bisa juga dengan kurung siku dua-duanya\n",
    "print('Twitter share:', pertemuan_hari_ini['share_count']['twitter'])"
   ]
  },
  {
   "cell_type": "markdown",
   "id": "0b512817",
   "metadata": {},
   "source": [
    "Hanya saja, di antara keunggulan menggunakan fungsi `get()` adalah:\n",
    "\n",
    "```\n",
    "Kita bisa mengatur nilai default jika key pada dictionary yang kita panggil tidak ditemukan. Hal itu akan mencegah sistem untuk menampilkan error.\n",
    "\n",
    "```\n",
    "\n",
    "Perhatikan contoh berikut, perintah yang pertama akan menimbulkan error\\ sedangkan perintah yang kedua tidak:"
   ]
  },
  {
   "cell_type": "code",
   "execution_count": 9,
   "id": "d63e310b",
   "metadata": {},
   "outputs": [
    {
     "ename": "KeyError",
     "evalue": "'instagram'",
     "output_type": "error",
     "traceback": [
      "\u001b[0;31m---------------------------------------------------------------------------\u001b[0m",
      "\u001b[0;31mKeyError\u001b[0m                                  Traceback (most recent call last)",
      "Input \u001b[0;32mIn [9]\u001b[0m, in \u001b[0;36m<cell line: 4>\u001b[0;34m()\u001b[0m\n\u001b[1;32m      1\u001b[0m share_count \u001b[38;5;241m=\u001b[39m pertemuan_hari_ini\u001b[38;5;241m.\u001b[39mget(\u001b[38;5;124m'\u001b[39m\u001b[38;5;124mshare_count\u001b[39m\u001b[38;5;124m'\u001b[39m)\n\u001b[1;32m      3\u001b[0m \u001b[38;5;66;03m# ini error\u001b[39;00m\n\u001b[0;32m----> 4\u001b[0m \u001b[38;5;28mprint\u001b[39m(\u001b[38;5;124m'\u001b[39m\u001b[38;5;124mInstagram share:\u001b[39m\u001b[38;5;124m'\u001b[39m, \u001b[43mshare_count\u001b[49m\u001b[43m[\u001b[49m\u001b[38;5;124;43m'\u001b[39;49m\u001b[38;5;124;43minstagram\u001b[39;49m\u001b[38;5;124;43m'\u001b[39;49m\u001b[43m]\u001b[49m)\n",
      "\u001b[0;31mKeyError\u001b[0m: 'instagram'"
     ]
    }
   ],
   "source": [
    "share_count = pertemuan_hari_ini.get('share_count')\n",
    "\n",
    "# ini error\n",
    "print('Instagram share:', share_count['instagram'])"
   ]
  },
  {
   "cell_type": "code",
   "execution_count": 10,
   "id": "6171bd8e",
   "metadata": {},
   "outputs": [
    {
     "name": "stdout",
     "output_type": "stream",
     "text": [
      "Instagram share: 0\n"
     ]
    }
   ],
   "source": [
    "share_count = pertemuan_hari_ini.get('share_count')\n",
    "\n",
    "# sedangkan ini tidak error\n",
    "print('Instagram share:', share_count.get('instagram', 0))"
   ]
  },
  {
   "cell_type": "markdown",
   "id": "3f2121a3",
   "metadata": {},
   "source": [
    "## Perulangan Untuk Dictionary\n",
    "\n",
    "Kita juga bisa menampilkan semua isi dari sebuah dictionary dengan memanfaatkan perulangan.\n",
    "\n",
    "Perhatikan contoh berikut:"
   ]
  },
  {
   "cell_type": "code",
   "execution_count": 11,
   "id": "b1349e92",
   "metadata": {},
   "outputs": [
    {
     "name": "stdout",
     "output_type": "stream",
     "text": [
      "judul -> Hafalan Sholat Delisa\n",
      "penulis -> Tere Liye\n"
     ]
    }
   ],
   "source": [
    "buku = {\n",
    "  'judul': 'Hafalan Sholat Delisa',\n",
    "  'penulis': 'Tere Liye'\n",
    "}\n",
    "\n",
    "for key in buku:\n",
    "  print(key, '->', buku[key])"
   ]
  },
  {
   "cell_type": "markdown",
   "id": "7c340972",
   "metadata": {},
   "source": [
    "Atau kita juga bisa memanggil fungsi dictionary.items() untuk perulangan yang lebih simpel:"
   ]
  },
  {
   "cell_type": "code",
   "execution_count": 12,
   "id": "0445cca6",
   "metadata": {},
   "outputs": [
    {
     "name": "stdout",
     "output_type": "stream",
     "text": [
      "judul -> Hafalan Sholat Delisa\n",
      "penulis -> Tere Liye\n"
     ]
    }
   ],
   "source": [
    "buku = {\n",
    "  'judul': 'Hafalan Sholat Delisa',\n",
    "  'penulis': 'Tere Liye'\n",
    "}\n",
    "\n",
    "for nama_atribut, nilai in buku.items():\n",
    "  print(nama_atribut, '->', nilai)"
   ]
  },
  {
   "cell_type": "markdown",
   "id": "a9a36619",
   "metadata": {},
   "source": [
    "## Mengubah Nilai Item\n",
    "\n",
    "Seperti yang telah kita singgung di atas bahwasanya item pada dictionary bersifat changeable alias bisa diubah.\n",
    "\n",
    "Untuk mengubah nilai item pada suatu dictionary, caranya simpel seperti mengubah variabel pada umumnya.\n",
    "\n",
    "Contoh:"
   ]
  },
  {
   "cell_type": "code",
   "execution_count": 16,
   "id": "d337f013",
   "metadata": {},
   "outputs": [
    {
     "name": "stdout",
     "output_type": "stream",
     "text": [
      "Nama awal: Lendis Fabri\n",
      "Setelah diubah: Andi Mukhlish\n"
     ]
    }
   ],
   "source": [
    "mahasiswa = {\n",
    "  'nama': 'Lendis Fabri',\n",
    "  'asal': 'Indonesia'\n",
    "}\n",
    "\n",
    "# mengubah data\n",
    "print('Nama awal:', mahasiswa.get('nama'))\n",
    "mahasiswa['nama'] = 'Andi Mukhlish'\n",
    "print('Setelah diubah:', mahasiswa.get('nama'))"
   ]
  },
  {
   "cell_type": "markdown",
   "id": "787553c2",
   "metadata": {},
   "source": [
    "## Menambahkan item\n",
    "Untuk menambahkan key dan item baru, caranya seperti mengedit item.\n",
    "\n",
    "Jadi:\n",
    "\n",
    "1. Kalau key yang kita definisikan `ternyata sudah ada`, sistem akan `me-replace item` yang lama dengan yang baru, alias meng-edit\n",
    "2. Tapi jika key yang kita definisikan `ternyata tidak ada`, maka sistem akan `menambahkannya` sebagai item baru."
   ]
  },
  {
   "cell_type": "markdown",
   "id": "9ba7b316",
   "metadata": {},
   "source": [
    "## Contoh: "
   ]
  },
  {
   "cell_type": "code",
   "execution_count": 17,
   "id": "8e2a3361",
   "metadata": {},
   "outputs": [
    {
     "name": "stdout",
     "output_type": "stream",
     "text": [
      "Hobi: None\n",
      "Hobi dari Lendis Fabri adalah Memancing\n"
     ]
    }
   ],
   "source": [
    "mahasiswa = {\n",
    "  'nama': 'Lendis Fabri',\n",
    "  'asal': 'Indonesia',\n",
    "}\n",
    "\n",
    "# output None\n",
    "print('Hobi:', mahasiswa.get('hobi'))\n",
    "# tambah data\n",
    "mahasiswa['hobi'] = 'Memancing'\n",
    "# print ulang\n",
    "print('Hobi dari {} adalah {}'.format(\n",
    "  mahasiswa.get('nama'),\n",
    "  mahasiswa.get('hobi')\n",
    "))"
   ]
  },
  {
   "cell_type": "markdown",
   "id": "2f3075eb",
   "metadata": {},
   "source": [
    "## Menghapus Item"
   ]
  },
  {
   "cell_type": "markdown",
   "id": "8de19ac2",
   "metadata": {},
   "source": [
    "Untuk menghapus item, terdapat dua cara:\n",
    "\n",
    "1. Menggunakan statement del <dict[key]>.\n",
    "2. Atau menggunakan fungsi dictionary.pop()"
   ]
  },
  {
   "cell_type": "markdown",
   "id": "95a3a146",
   "metadata": {},
   "source": [
    "## Perhatikan contoh berikut: "
   ]
  },
  {
   "cell_type": "code",
   "execution_count": 21,
   "id": "9c0a1b0b",
   "metadata": {},
   "outputs": [
    {
     "data": {
      "text/plain": [
       "'Indonesia'"
      ]
     },
     "execution_count": 21,
     "metadata": {},
     "output_type": "execute_result"
    }
   ],
   "source": [
    "mahasiswa = {\n",
    "  'nama': 'Wahid Abdullah',\n",
    "  'usia': 18,\n",
    "  'asal': 'Indonesia'\n",
    "}\n",
    "\n",
    "del mahasiswa['nama']\n",
    "mahasiswa.pop('usia')\n",
    "mahasiswa.pop('asal')"
   ]
  },
  {
   "cell_type": "markdown",
   "id": "80254adc",
   "metadata": {},
   "source": [
    "Apa bedanya memakai cara pertama dan cara kedua?\n",
    "Bedanya, kalau menggunakan fungsi `pop()`, kita bisa mendapatkan nilai kembalian dari data yang telah dihapus."
   ]
  },
  {
   "cell_type": "markdown",
   "id": "9ab683fb",
   "metadata": {},
   "source": [
    "## Contoh: "
   ]
  },
  {
   "cell_type": "code",
   "execution_count": 22,
   "id": "716f843f",
   "metadata": {},
   "outputs": [
    {
     "name": "stdout",
     "output_type": "stream",
     "text": [
      "isi pesan: None\n",
      "isi pesan: ISI PESAN INI HANYA BISA DIBACA SEKALI SAJA!! 😱\n"
     ]
    }
   ],
   "source": [
    "pesan_singkat = {\n",
    "  \"isi\": \"ISI PESAN INI HANYA BISA DIBACA SEKALI SAJA!! 😱\"\n",
    "}\n",
    "\n",
    "isi_pesan = pesan_singkat.pop('isi')\n",
    "\n",
    "# akses langsung dari dictionary\n",
    "# ouput: None\n",
    "print('isi pesan:', pesan_singkat.get('isi'))\n",
    "\n",
    "# akses dari hasil kembalian yang telah disimpan\n",
    "print('isi pesan:', isi_pesan)"
   ]
  },
  {
   "cell_type": "markdown",
   "id": "dc64ea90",
   "metadata": {},
   "source": [
    "## Operator Keanggotaan"
   ]
  },
  {
   "cell_type": "markdown",
   "id": "ec532d45",
   "metadata": {},
   "source": [
    "Kita bisa memanfaatkan operator keanggotaan untuk tipe data dictionary pada python."
   ]
  },
  {
   "cell_type": "markdown",
   "id": "49c1e002",
   "metadata": {},
   "source": [
    "Perhatikan contoh berikut:"
   ]
  },
  {
   "cell_type": "code",
   "execution_count": 24,
   "id": "ddeeb5b7",
   "metadata": {},
   "outputs": [
    {
     "name": "stdout",
     "output_type": "stream",
     "text": [
      "Apakah variabel siswa memiliki key nama?\n",
      "True\n",
      "\n",
      "Apakah variabel siswa TIDAK memiliki key usia?\n",
      "True\n"
     ]
    }
   ],
   "source": [
    "siswa = {\n",
    "  'nama': 'Renza Ilhami'\n",
    "}\n",
    "\n",
    "print('Apakah variabel siswa memiliki key nama?')\n",
    "print('nama' in siswa)\n",
    "\n",
    "print('\\nApakah variabel siswa TIDAK memiliki key usia?')\n",
    "print('usia' not in siswa)"
   ]
  },
  {
   "cell_type": "markdown",
   "id": "7c670510",
   "metadata": {},
   "source": [
    "## Panjang atau Banyak Key Pada Dictionary"
   ]
  },
  {
   "cell_type": "markdown",
   "id": "db12fd59",
   "metadata": {},
   "source": [
    "Terakhir tapi bukan yang paling akhir, kita bisa juga menghitung jumlah key yang terdapat pada sebuah dictionary dengan fungsi len()."
   ]
  },
  {
   "cell_type": "markdown",
   "id": "d38accad",
   "metadata": {},
   "source": [
    "## Contoh:"
   ]
  },
  {
   "cell_type": "code",
   "execution_count": 25,
   "id": "a6730eb7",
   "metadata": {},
   "outputs": [
    {
     "name": "stdout",
     "output_type": "stream",
     "text": [
      "Jumlah atribut variabel sekolah adalah: 3\n"
     ]
    }
   ],
   "source": [
    "sekolah = {\n",
    "  'nama': 'Sekolah Dasar Negeri Surabaya 1',\n",
    "  'jenjang': 'Sekolah Dasar',\n",
    "  'akreditasi': 'A'\n",
    "}\n",
    "\n",
    "print(\n",
    "  \"Jumlah atribut variabel sekolah adalah:\",\n",
    "  len(sekolah)\n",
    ")"
   ]
  },
  {
   "cell_type": "code",
   "execution_count": 29,
   "id": "18f924d4",
   "metadata": {},
   "outputs": [
    {
     "name": "stdout",
     "output_type": "stream",
     "text": [
      "[{'nama': 'Supardi G', 'nim': 20220040084, 'nilai': 99.9}, {'nama': 'Rahman R', 'nim': 20220040295, 'nilai': 60}, {'nama': 'Indah Puspitasari', 'nim': 20220040095, 'nilai': 100}]\n"
     ]
    }
   ],
   "source": [
    "kelas = [\n",
    "    {\n",
    "        \"nama\": \"Supardi G\",\n",
    "        \"nim\": 20220040084,\n",
    "        \"nilai\": 99.9\n",
    "    },\n",
    "    {\n",
    "        \"nama\": \"Rahman R\",\n",
    "        \"nim\": 20220040295,\n",
    "        \"nilai\": 60\n",
    "    },\n",
    "    {\n",
    "        \"nama\": \"Indah Puspitasari\",\n",
    "        \"nim\": 20220040095,\n",
    "        \"nilai\": 100\n",
    "    }\n",
    "]\n",
    "\n",
    "print(kelas)"
   ]
  },
  {
   "cell_type": "code",
   "execution_count": 39,
   "id": "bfa8fa7f",
   "metadata": {},
   "outputs": [
    {
     "name": "stdout",
     "output_type": "stream",
     "text": [
      "{'nama': 'indah puspitasari', 'nim': '20220040095', 'kelas': 'TI 22 H', 'nilai': [90, 90, 90, 90, 90]}\n",
      "2022\n",
      "[90, 90, 90, 90, 90]\n",
      "90.0\n"
     ]
    }
   ],
   "source": [
    "data_pribadi = {\n",
    "   \n",
    "    \"nama\": \"indah puspitasari\",\n",
    "    \"nim\": \"20220040095\",\n",
    "    \"kelas\": \"TI 22 H\",\n",
    "    \"nilai\": [90, 90, 90, 90, 90]\n",
    "    \n",
    "    \n",
    "}\n",
    "print(data_pribadi)\n",
    "\n",
    "nim = data_pribadi['nim']\n",
    "print(nim[0:4])\n",
    "    \n",
    "nilai = data_pribadi[\"nilai\"]\n",
    "print(nilai)\n",
    "\n",
    "jumlah = 0\n",
    "for n in nilai:\n",
    "    jumlah += n\n",
    "    \n",
    "rata_rata = jumlah / len(nilai)\n",
    "print(rata_rata)"
   ]
  },
  {
   "cell_type": "code",
   "execution_count": null,
   "id": "7b0618f4",
   "metadata": {},
   "outputs": [],
   "source": []
  }
 ],
 "metadata": {
  "kernelspec": {
   "display_name": "Python 3 (ipykernel)",
   "language": "python",
   "name": "python3"
  },
  "language_info": {
   "codemirror_mode": {
    "name": "ipython",
    "version": 3
   },
   "file_extension": ".py",
   "mimetype": "text/x-python",
   "name": "python",
   "nbconvert_exporter": "python",
   "pygments_lexer": "ipython3",
   "version": "3.9.13"
  }
 },
 "nbformat": 4,
 "nbformat_minor": 5
}
