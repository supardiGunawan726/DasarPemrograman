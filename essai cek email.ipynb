{
 "cells": [
  {
   "cell_type": "code",
   "execution_count": 3,
   "metadata": {},
   "outputs": [
    {
     "name": "stdout",
     "output_type": "stream",
     "text": [
      "Kasus contoh:\n",
      "alunsujjada@gmailcom => False\n",
      "alunsujjada@gmail.com => True\n",
      "alun.sujjada@gmail.com => False\n",
      "alunsujjada.gmail.com => False\n",
      "alun.sujjada@gmailcom => False\n",
      "\n",
      "apa@gmail.com => True\n"
     ]
    }
   ],
   "source": [
    "\n",
    "emails = [\"alunsujjada@gmailcom\", \"alunsujjada@gmail.com\", \"alun.sujjada@gmail.com\", \"alunsujjada.gmail.com\", \"alun.sujjada@gmailcom\"]\n",
    "print(\"Kasus contoh:\")\n",
    "for email in emails:\n",
    "    content = email.split(\"@\")\n",
    "    haveNoSpace = email.find(\" \") == -1\n",
    "    isContent = len(content) == 2\n",
    "    isIdentifier = content[0].isidentifier()\n",
    "    isDomain = len(content) == 2 and content[1].find(\".\") != -1 and (not content[1].startswith(\".\")) and (not content[1].endswith(\".\"))\n",
    "    Valid = haveNoSpace and isContent and isIdentifier and isDomain\n",
    "    print(f\"{email} => {Valid}\")\n",
    "\n",
    "print()\n",
    "email_input = input(\"Masukan email: \")\n",
    "content = email_input.split(\"@\")\n",
    "haveNoSpace = email_input.find(\" \") == -1\n",
    "isContent = len(content) == 2\n",
    "isIdentifier = content[0].isidentifier()\n",
    "isDomain = len(content) == 2 and content[1].find(\".\") != -1 and (not content[1].startswith(\".\")) and (not content[1].endswith(\".\"))\n",
    "Valid = haveNoSpace and isContent and isIdentifier and isDomain\n",
    "    \n",
    "print(f\"{email_input} => {Valid}\")"
   ]
  }
 ],
 "metadata": {
  "kernelspec": {
   "display_name": "Python 3 (ipykernel)",
   "language": "python",
   "name": "python3"
  },
  "language_info": {
   "codemirror_mode": {
    "name": "ipython",
    "version": 3
   },
   "file_extension": ".py",
   "mimetype": "text/x-python",
   "name": "python",
   "nbconvert_exporter": "python",
   "pygments_lexer": "ipython3",
   "version": "3.8.9"
  },
  "vscode": {
   "interpreter": {
    "hash": "31f2aee4e71d21fbe5cf8b01ff0e069b9275f58929596ceb00d14d90e3e16cd6"
   }
  }
 },
 "nbformat": 4,
 "nbformat_minor": 2
}
