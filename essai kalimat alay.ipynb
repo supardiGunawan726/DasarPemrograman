{
 "cells": [
  {
   "cell_type": "code",
   "execution_count": 3,
   "metadata": {},
   "outputs": [
    {
     "name": "stdout",
     "output_type": "stream",
     "text": [
      "kalimat baru: 7ooping for digun4k4n k3tik4 5ud4h dik3t4hui b4t45 4w47 d4n b4t45 4khir\n",
      "\n"
     ]
    }
   ],
   "source": [
    "kalimat = input(\"kalimat: \")\n",
    "kalimat2 = \"\"\n",
    "\n",
    "for huruf in kalimat:\n",
    "    if huruf == \"a\" or huruf == \"A\":\n",
    "        kalimat2 += \"4\"\n",
    "    elif huruf == \"e\" or huruf == \"E\":\n",
    "        kalimat2 += \"3\"\n",
    "    elif huruf == \"L\" or huruf == \"l\":\n",
    "        kalimat2 += \"7\"\n",
    "    elif huruf == \"S\" or huruf == \"s\":\n",
    "        kalimat2 += \"5\"\n",
    "    else:\n",
    "        kalimat2 += huruf\n",
    "\n",
    "print(f\"kalimat baru: {kalimat2}\\n\")"
   ]
  }
 ],
 "metadata": {
  "kernelspec": {
   "display_name": "Python 3 (ipykernel)",
   "language": "python",
   "name": "python3"
  },
  "language_info": {
   "codemirror_mode": {
    "name": "ipython",
    "version": 3
   },
   "file_extension": ".py",
   "mimetype": "text/x-python",
   "name": "python",
   "nbconvert_exporter": "python",
   "pygments_lexer": "ipython3",
   "version": "3.8.9 (default, Apr 13 2022, 08:48:06) \n[Clang 13.1.6 (clang-1316.0.21.2.5)]"
  },
  "vscode": {
   "interpreter": {
    "hash": "31f2aee4e71d21fbe5cf8b01ff0e069b9275f58929596ceb00d14d90e3e16cd6"
   }
  }
 },
 "nbformat": 4,
 "nbformat_minor": 2
}
