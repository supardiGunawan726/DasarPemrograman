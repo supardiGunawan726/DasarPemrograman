{
 "cells": [
  {
   "cell_type": "code",
   "execution_count": 2,
   "metadata": {},
   "outputs": [
    {
     "ename": "SyntaxError",
     "evalue": "invalid syntax (1313723066.py, line 17)",
     "output_type": "error",
     "traceback": [
      "\u001b[0;36m  Input \u001b[0;32mIn [2]\u001b[0;36m\u001b[0m\n\u001b[0;31m    isDomain = isContent and content[1].find(\".\") != -1 and\u001b[0m\n\u001b[0m                                                            ^\u001b[0m\n\u001b[0;31mSyntaxError\u001b[0m\u001b[0;31m:\u001b[0m invalid syntax\n"
     ]
    }
   ],
   "source": [
    "def isEmailValid(email):\n",
    "    # Memisahkan isi email = local_part@domain\n",
    "    # menjadi [local_part, domain]\n",
    "    content = email.split(\"@\")\n",
    "\n",
    "    #cek email tidak boleh mengandung spasi\n",
    "    haveNoSpace = email.find(\" \") == -1\n",
    "\n",
    "    #cek content harus berisi 2 item yaitu local_part dan domain\n",
    "    isContent = len(content) == 2\n",
    "\n",
    "    #cek local_part, hanya boleh huruf, angka, dan underscore\n",
    "    isIdentifier = content[0].isidentifier()\n",
    "\n",
    "    #cek domain harus ada pada list content\n",
    "    #cek domain harus ada titik . tapi hanya boleh ditengah, . tidak boleh diakhir atau awal domain\n",
    "    isDomain = isContent and content[1].find(\".\") != -1 and (not content[1].startswith(\".\")) and (not content[1].endswith(\".\"))\n",
    "    \n",
    "    # print(haveNoSpace, isContent, isIdentifier, isDomain)\n",
    "    return haveNoSpace and isContent and isIdentifier and isDomain\n",
    "\n",
    "# cek email pada contoh\n",
    "emails = [\"alunsujjada@gmailcom\", \"alunsujjada@gmail.com\", \"alun.sujjada@gmail.com\", \"alunsujjada.gmail.com\", \"alun.sujjada@gmailcom\"]\n",
    "print(\"Kasus contoh:\")\n",
    "for email in emails:\n",
    "    isValid = isEmailValid(email)\n",
    "    print(f\"{email} => {isValid}\")\n",
    "\n",
    "# cek email dari inputan\n",
    "print()\n",
    "email_input = input(\"Masukan email: \")\n",
    "is_email_input_valid = isEmailValid(email_input)\n",
    "print(f\"{email_input} => {is_email_input_valid}\")"
   ]
  }
 ],
 "metadata": {
  "kernelspec": {
   "display_name": "Python 3 (ipykernel)",
   "language": "python",
   "name": "python3"
  },
  "language_info": {
   "codemirror_mode": {
    "name": "ipython",
    "version": 3
   },
   "file_extension": ".py",
   "mimetype": "text/x-python",
   "name": "python",
   "nbconvert_exporter": "python",
   "pygments_lexer": "ipython3",
   "version": "3.9.13"
  },
  "vscode": {
   "interpreter": {
    "hash": "31f2aee4e71d21fbe5cf8b01ff0e069b9275f58929596ceb00d14d90e3e16cd6"
   }
  }
 },
 "nbformat": 4,
 "nbformat_minor": 2
}
