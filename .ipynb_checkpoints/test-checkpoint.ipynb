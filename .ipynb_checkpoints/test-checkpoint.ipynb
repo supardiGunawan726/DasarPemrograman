{
 "cells": [
  {
   "cell_type": "code",
   "execution_count": 38,
   "metadata": {},
   "outputs": [
    {
     "name": "stdout",
     "output_type": "stream",
     "text": [
      "[1,1]\t[1,2]\t[1,3]\t[1,4]\t[1,5]\t[1,6]\t[1,7]\t[1,8]\t[1,9]\t[1,10]\t\n",
      "[2,1]\t[2,2]\t[2,3]\t[2,4]\t[2,5]\t[2,6]\t[2,7]\t[2,8]\t[2,9]\t[2,10]\t\n",
      "[3,1]\t[3,2]\t[3,3]\t[3,4]\t[3,5]\t[3,6]\t[3,7]\t[3,8]\t[3,9]\t[3,10]\t\n",
      "[4,1]\t[4,2]\t[4,3]\t[4,4]\t[4,5]\t[4,6]\t[4,7]\t[4,8]\t[4,9]\t[4,10]\t\n",
      "[5,1]\t[5,2]\t[5,3]\t[5,4]\t[5,5]\t[5,6]\t[5,7]\t[5,8]\t[5,9]\t[5,10]\t\n",
      "[6,1]\t[6,2]\t[6,3]\t[6,4]\t[6,5]\t[6,6]\t[6,7]\t[6,8]\t[6,9]\t[6,10]\t\n",
      "[7,1]\t[7,2]\t[7,3]\t[7,4]\t[7,5]\t[7,6]\t[7,7]\t[7,8]\t[7,9]\t[7,10]\t\n",
      "[8,1]\t[8,2]\t[8,3]\t[8,4]\t[8,5]\t[8,6]\t[8,7]\t[8,8]\t[8,9]\t[8,10]\t\n",
      "[9,1]\t[9,2]\t[9,3]\t[9,4]\t[9,5]\t[9,6]\t[9,7]\t[9,8]\t[9,9]\t[9,10]\t\n",
      "[10,1]\t[10,2]\t[10,3]\t[10,4]\t[10,5]\t[10,6]\t[10,7]\t[10,8]\t[10,9]\t[10,10]\t\n"
     ]
    }
   ],
   "source": [
    "width = 10\n",
    "height = 10\n",
    "\n",
    "for x in range(1,width + 1):\n",
    "    for y in range(1,height + 1):\n",
    "        print(f\"[{x},{y}]\", end=\"\\t\")\n",
    "    print()"
   ]
  },
  {
   "cell_type": "code",
   "execution_count": 59,
   "metadata": {},
   "outputs": [
    {
     "name": "stdout",
     "output_type": "stream",
     "text": [
      "          *          \n",
      "         ***         \n",
      "        *****        \n",
      "       *******       \n",
      "      *********      \n",
      "     ***********     \n",
      "    *************    \n",
      "   ***************   \n",
      "  *****************  \n",
      " ******************* \n",
      "*********************\n"
     ]
    }
   ],
   "source": [
    "size = 21\n",
    "\n",
    "for x in range(1,size + 1):\n",
    "    lines = []\n",
    "    for y in range(1,size + 1):\n",
    "        if x + y > size and x > size / 2 and x >= y:\n",
    "            lines += \"*\"\n",
    "        else:\n",
    "            lines += \" \"\n",
    "    \n",
    "    is_blank = True\n",
    "    for l in lines:\n",
    "        if l == \"*\" or not is_blank:\n",
    "            is_blank = False\n",
    "\n",
    "    if not is_blank:\n",
    "        for l in lines:\n",
    "            print(l, end=\"\")\n",
    "        print()"
   ]
  },
  {
   "cell_type": "code",
   "execution_count": null,
   "metadata": {},
   "outputs": [],
   "source": [
    "# Enter your code here. Read input from STDIN. Print output to STDOUT\n",
    "from email import utils\n",
    "import re\n",
    "import os\n",
    "\n",
    "def isEmailValid(email):\n",
    "    return bool(re.match(r'^[a-zA-Z]+[0-9-._]*[a-zA-Z]*@[a-zA-Z]+\\.[a-zA-Z]{1,3}$', email))\n",
    "\n",
    "for _ in range(int(input())):\n",
    "    line = input()\n",
    "    email_tuple = utils.parseaddr(line)\n",
    "\n",
    "    if (isEmailValid(email_tuple[1])):\n",
    "        print(utils.formataddr(email_tuple))"
   ]
  },
  {
   "cell_type": "code",
   "execution_count": 3,
   "metadata": {},
   "outputs": [
    {
     "name": "stdout",
     "output_type": "stream",
     "text": [
      "{'name': 'Emma', 'class': 9, 'marks': 75}\n",
      "{}\n"
     ]
    }
   ],
   "source": [
    "student = {\"name\": \"Emma\", \"class\": 9, \"marks\": 75}\n",
    "print(student)\n",
    "student.clear()\n",
    "print(student)"
   ]
  }
 ],
 "metadata": {
  "kernelspec": {
   "display_name": "Python 3 (ipykernel)",
   "language": "python",
   "name": "python3"
  },
  "language_info": {
   "codemirror_mode": {
    "name": "ipython",
    "version": 3
   },
   "file_extension": ".py",
   "mimetype": "text/x-python",
   "name": "python",
   "nbconvert_exporter": "python",
   "pygments_lexer": "ipython3",
   "version": "3.9.13"
  },
  "vscode": {
   "interpreter": {
    "hash": "31f2aee4e71d21fbe5cf8b01ff0e069b9275f58929596ceb00d14d90e3e16cd6"
   }
  }
 },
 "nbformat": 4,
 "nbformat_minor": 2
}
