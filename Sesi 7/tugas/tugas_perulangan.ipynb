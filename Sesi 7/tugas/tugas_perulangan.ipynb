{
 "cells": [
  {
   "cell_type": "markdown",
   "metadata": {},
   "source": [
    "### Tugas Kondisi Perulangan"
   ]
  },
  {
   "cell_type": "markdown",
   "metadata": {},
   "source": [
    "1. Buatlah program untuk membalik sebuah kalimat, misal:\n",
    "* input: **\"LUPA-LUPA INGAT\"**\n",
    "* output: **\"TAGNI APUL-APUL\"**"
   ]
  },
  {
   "cell_type": "code",
   "execution_count": 8,
   "metadata": {},
   "outputs": [
    {
     "name": "stdout",
     "output_type": "stream",
     "text": [
      "TAGNI APUL-APUL"
     ]
    }
   ],
   "source": [
    "kalimat = input(\"Masukan kalimat: \")\n",
    "jumlahKarakter = len(kalimat)\n",
    "\n",
    "for k in range(jumlahKarakter):\n",
    "  index = jumlahKarakter - k - 1 # MENCARI INDEX DIMULAI DARI AKHIR KALIMAT\n",
    "  print(kalimat[index], end=\"\")"
   ]
  },
  {
   "cell_type": "markdown",
   "metadata": {},
   "source": [
    "2. Buatlah program untuk menghitung jumlah masing-masing huruf vokal, dengan output seperti berikut ini:\n",
    "* kalimat : **\"Universitas Nusa Putera\"**\n",
    "\n",
    "output: \n",
    "* Jumlah huruf A = 3\n",
    "* Jumlah huruf I = 2\n",
    "* Jumlah huruf U = 3\n",
    "* Jumlah huruf E = 2\n",
    "* Jumlah huruf O = 0\n",
    "* Total jumlah huruf vokal = 10"
   ]
  },
  {
   "cell_type": "code",
   "execution_count": 23,
   "metadata": {},
   "outputs": [
    {
     "name": "stdout",
     "output_type": "stream",
     "text": [
      "Jumlah huruf A = 3\n",
      "Jumlah huruf I = 2\n",
      "Jumlah huruf U = 3\n",
      "Jumlah huruf E = 2\n",
      "Jumlah huruf O = 0\n",
      "Total jumlah huruf vokal = 10\n"
     ]
    }
   ],
   "source": [
    "kalimat = \"Universitas Nusa Putera\"\n",
    "\n",
    "vokal = [\n",
    "  {\n",
    "    \"huruf\": [\"a\", \"A\"],\n",
    "    \"jumlah\": 0\n",
    "  },\n",
    "  {\n",
    "    \"huruf\": [\"i\", \"I\"],\n",
    "    \"jumlah\": 0\n",
    "  },\n",
    "  {\n",
    "    \"huruf\": [\"u\", \"U\"],\n",
    "    \"jumlah\": 0\n",
    "  },\n",
    "  {\n",
    "    \"huruf\": [\"e\", \"E\"],\n",
    "    \"jumlah\": 0\n",
    "  },\n",
    "  {\n",
    "    \"huruf\": [\"o\", \"O\"],\n",
    "    \"jumlah\": 0\n",
    "  },\n",
    "]\n",
    "\n",
    "total = 0\n",
    "\n",
    "for k in kalimat:\n",
    "  for v in vokal:\n",
    "    if (k in v[\"huruf\"]):\n",
    "      v[\"jumlah\"] += 1\n",
    "\n",
    "for v in vokal:\n",
    "  huruf = v[\"huruf\"][1]\n",
    "  jumlah = v[\"jumlah\"]\n",
    "  total += jumlah\n",
    "  print(f\"Jumlah huruf {huruf} = {jumlah}\")  \n",
    "\n",
    "print(f\"Total jumlah huruf vokal = {total}\")"
   ]
  }
 ],
 "metadata": {
  "kernelspec": {
   "display_name": "Python 3.10.8 64-bit",
   "language": "python",
   "name": "python3"
  },
  "language_info": {
   "codemirror_mode": {
    "name": "ipython",
    "version": 3
   },
   "file_extension": ".py",
   "mimetype": "text/x-python",
   "name": "python",
   "nbconvert_exporter": "python",
   "pygments_lexer": "ipython3",
   "version": "3.10.8"
  },
  "orig_nbformat": 4,
  "vscode": {
   "interpreter": {
    "hash": "e7370f93d1d0cde622a1f8e1c04877d8463912d04d973331ad4851f04de6915a"
   }
  }
 },
 "nbformat": 4,
 "nbformat_minor": 2
}
