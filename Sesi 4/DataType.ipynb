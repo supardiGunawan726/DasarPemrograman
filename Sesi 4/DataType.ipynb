{
 "cells": [
  {
   "cell_type": "markdown",
   "metadata": {},
   "source": [
    "<hr>\n",
    "<h1>Tipe Data</h1>\n",
    "\n",
    "Tipe data adalah suatu penanda memori sebagai identifikasi variabel. Python membagi jenis tipe data yaitu:\n",
    "<ol>\n",
    "    <li>Number</li>\n",
    "    <li>String</li>\n",
    "    <li>Logic Boolean</li>\n",
    "</ol>\n",
    "\n",
    "Berikut ini adalah beberapa tipe data yang digunakan dalam Python:\n",
    "<ol>\n",
    "    <li>Boolean</li>\n",
    "    <li>String</li>\n",
    "    <li>Integer</li>\n",
    "    <li>Float</li>\n",
    "    <li>Hexadecimal</li>\n",
    "</ol>\n",
    "\n",
    "<h1>Latihan</h1>\n",
    "\n",
    "Cetaklah nilai-nilai sesuai dengan tipe data yang ada di Python. Gunakan <b>type(nilai)</b> untuk memastikan tipe datanya\n"
   ]
  },
  {
   "cell_type": "code",
   "execution_count": null,
   "metadata": {},
   "outputs": [],
   "source": [
    "#Code here\n",
    "..."
   ]
  },
  {
   "cell_type": "markdown",
   "metadata": {},
   "source": [
    "Tipe Data juga dapat diubah yang disebut dengan istilah <b>Casting</b>\n",
    "\n",
    "Contoh: str(3), int(3.5)"
   ]
  },
  {
   "cell_type": "code",
   "execution_count": null,
   "metadata": {},
   "outputs": [],
   "source": [
    "#Code here\n",
    "..."
   ]
  },
  {
   "cell_type": "markdown",
   "metadata": {},
   "source": [
    "<h1>Operator</h1>\n",
    "\n",
    "Python membagi operator dalam grup berikut:\n",
    "\n",
    "<ol>\n",
    "    <li>Operator Aritmatika (+, -, *, /, %, //, **)</li>\n",
    "    <li>Operator Penugasan (=, +=, -=, *=, /=)</li>\n",
    "    <li>Operator Perbandingan (==, !=, <, <=, >, >=)</li>\n",
    "    <li>Operator Logika (and, or, not)</li>\n",
    "    <li>Operator Identitas (is, is not)</li>\n",
    "    <li>Operator Keanggotaan (in, not in)</li>\n",
    "    <li>Operator Bitwise (&, |, ^, ~, <<, >>)</li>\n",
    "</ol>\n"
   ]
  },
  {
   "cell_type": "code",
   "execution_count": null,
   "metadata": {},
   "outputs": [],
   "source": [
    "#Code here\n",
    "..."
   ]
  }
 ],
 "metadata": {
  "kernelspec": {
   "display_name": "Python 3",
   "language": "python",
   "name": "python3"
  },
  "language_info": {
   "codemirror_mode": {
    "name": "ipython",
    "version": 3
   },
   "file_extension": ".py",
   "mimetype": "text/x-python",
   "name": "python",
   "nbconvert_exporter": "python",
   "pygments_lexer": "ipython3",
   "version": "3.8.5"
  }
 },
 "nbformat": 4,
 "nbformat_minor": 4
}
