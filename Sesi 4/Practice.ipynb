{
 "cells": [
  {
   "cell_type": "markdown",
   "metadata": {},
   "source": [
    "<h1>Praktikum Variabel & Tipe Data</h1>\n",
    "\n",
    "<h3>Soal 1</h3>\n",
    "Kiki belanja ke alf$$a M$a$r$t membeli 3 hepitos, 2 silperkuin, telor 2kg, beras 5kg, isi ulang akua galon seharga Rp 13.000. Harga hepitos yaitu Rp 15.000, telor Rp 13.000/kg, silperkuin Rp 21.000 beras kemasan 2.5kg seharga Rp 20.000. Toko tersebut memberikan discount 5%, ketika customer membeli makanan lebih dari 3 jenis. Berapakah total bayar belanjaan dari Kiki?\n"
   ]
  },
  {
   "cell_type": "markdown",
   "metadata": {},
   "source": [
    "<h1>Analyze Here</h1>\n",
    "\n",
    "Data barang atau produk:</br>\n",
    "<table>\n",
    "  <thead>\n",
    "    <tr>\n",
    "      <th>NO</th>\n",
    "      <th>Barang</th>\n",
    "      <th>Harga</th>\n",
    "      <th>Satuan</th>\n",
    "    </tr>\n",
    "  </thead>\n",
    "  <tbody>\n",
    "    <tr>\n",
    "      <td>1</td>\n",
    "      <td>Hepitos</td>\n",
    "      <td>15.000</td>\n",
    "      <td>pcs</td>\n",
    "    </tr>\n",
    "    <tr>\n",
    "      <td>2</td>\n",
    "      <td>Telor</td>\n",
    "      <td>13.000</td>\n",
    "      <td>kg</td>\n",
    "    </tr>\n",
    "    <tr>\n",
    "      <td>3</td>\n",
    "      <td>Silperkuin</td>\n",
    "      <td>21.000</td>\n",
    "      <td>pcs</td>\n",
    "    </tr>\n",
    "    <tr>\n",
    "      <td>4</td>\n",
    "      <td>Beras</td>\n",
    "      <td>20.000</td>\n",
    "      <td>Karung (2.5 kg)</td>\n",
    "    </tr>\n",
    "    <tr>\n",
    "      <td>5</td>\n",
    "      <td>Isi ulang Aqua Galon</td>\n",
    "      <td>13.000</td>\n",
    "      <td>galon</td>\n",
    "    </tr>\n",
    "  </tbody>\n",
    "</table>\n",
    "\n",
    "kita akan menampung data setiap produk tersebut sebagai `Dictionary` yang dikumpulkan dalam sebuah `List` dengan nama variable `products` dengan struktur seperti berikut:\n",
    "\n",
    "```python\n",
    "products = [\n",
    "  {\n",
    "    \"name\": \"hepitos\",\n",
    "    \"price\": 15000,\n",
    "    \"unit\": 1,\n",
    "    \"unit_type\": \"pcs\"\n",
    "  }\n",
    "]\n",
    "```\n",
    "\n",
    "Lalu kemudian, kita juga akan menampung barang yang akan dibeli oleh pembeli(Kiki) beserta dengan jumlah barang yg dibeli kedalam sebuah `Dictionary` yang dikumpulkan kedalam sebuah `List` dengan nama variable `cart` dengan struktur seperti berikut:\n",
    "\n",
    "```python\n",
    "cart = [\n",
    "  {\n",
    "    \"product\": \"hepitos\",\n",
    "    \"quantity\": 1\n",
    "  }\n",
    "]\n",
    "```\n",
    "\n",
    "Kita akan menghitung jumlah uang yang harus dibayarkan pembeli. Kita akan menampung data tersebut pada sebuah variabel bernama `total_bill`. Untuk mendapatkan data tersebut kita akan melakukan perulangan terhadap setiap product didalam `List` `cart` untuk mendapatkan data nama produk(`product`) dan jumlah barang yg dibeli(`quantity`). Lalu akan mencari harga produk tersebut pada data `products` lalu melakukan perkalian harga dengan jumlahnya (`quantity`). Lalu hasilnya akan kita tambahkan ke nilai `total_bill`.\n",
    "\n",
    "Kemudian kita akan mengecek apakah pembeli mendapatkan diskon. Caranya adalah mengecek apakah produk yang ada pada `List` `cart` apakah lebih dari 3 jenis. Jika ya maka kita akan mengurangi `total_bill` dengan diskon sebesar 5%."
   ]
  },
  {
   "cell_type": "code",
   "execution_count": 1,
   "metadata": {},
   "outputs": [
    {
     "name": "stdout",
     "output_type": "stream",
     "text": [
      "--------------STRUK----------------\n",
      "3 pcs Hepitos: Rp 45000\n",
      "2 pcs Silperkuin: Rp 42000\n",
      "2 kg Telor: Rp 26000\n",
      "5.0 kg Beras: Rp 40000\n",
      "1 galon Isi ulang galon: Rp 13000\n",
      "-----------------------------------\n",
      "Potongan harga: 8300.0 (5.0%)\n",
      "Total tagihan: Rp.157700.0\n",
      "--------------STRUK----------------\n",
      "\n",
      "Maka Kiki harus membayar sebesar Rp 157700.0\n"
     ]
    }
   ],
   "source": [
    "#Code here\n",
    "\n",
    "# DATA PRODUCT\n",
    "products = [\n",
    "  {\n",
    "    \"name\": \"Hepitos\",\n",
    "    \"price\": 15000,\n",
    "    \"unit\": 1,\n",
    "    \"unit_type\": \"pcs\"\n",
    "  },\n",
    "  {\n",
    "    \"name\": \"Telor\",\n",
    "    \"price\": 13000,\n",
    "    \"unit\": 1,\n",
    "    \"unit_type\": \"kg\"\n",
    "  },\n",
    "  {\n",
    "    \"name\": \"Silperkuin\",\n",
    "    \"price\": 21000,\n",
    "    \"unit\": 1,\n",
    "    \"unit_type\": \"pcs\"\n",
    "  },\n",
    "  {\n",
    "    \"name\": \"Beras\",\n",
    "    \"price\": 20000,\n",
    "    \"unit\": 2.5,\n",
    "    \"unit_type\": \"kg\"\n",
    "  },\n",
    "  {\n",
    "    \"name\": \"Isi ulang galon\",\n",
    "    \"price\": 13000,\n",
    "    \"unit\": 1,\n",
    "    \"unit_type\": \"galon\"\n",
    "  },\n",
    "]\n",
    "\n",
    "# BELANJAAN PEMBELI (KIKI)\n",
    "cart = [\n",
    "  {\n",
    "    \"product\": \"Hepitos\",\n",
    "    \"quantity\": 3\n",
    "  },\n",
    "  {\n",
    "    \"product\": \"Silperkuin\",\n",
    "    \"quantity\": 2\n",
    "  },\n",
    "  {\n",
    "    \"product\": \"Telor\",\n",
    "    \"quantity\": 2\n",
    "  },\n",
    "  {\n",
    "    \"product\": \"Beras\",\n",
    "    \"quantity\": 2 # 2 * 2.5 = 5KG\n",
    "  },\n",
    "  {\n",
    "    \"product\": \"Isi ulang galon\",\n",
    "    \"quantity\": 1\n",
    "  },\n",
    "]\n",
    "\n",
    "# MENGHITUNG TOTAL BILL\n",
    "total_bill = 0\n",
    "\n",
    "print(\"--------------STRUK----------------\")\n",
    "for c in cart: # LOOP PADA SETIAP PRODUCT YANG ADA PADA LIST `cart` YANG DIMASUKAN KE VARIABEL `c`\n",
    "  for product in products: # LOOP PADA SETIAP PRODUCT YANG ADA PADA LIST `products` YANG DIMASUKAN KE VARIABEL `product`\n",
    "\n",
    "    # JIKA NAMA PRODUK PADA `c` SAMA DENGAN NAMA PRODUK PADA LOOP SAAT INI (`product`)\n",
    "    # MAKA KITA DAPAT MENDAPATKAN DATA HARGA PRODUK TERSEBUT\n",
    "    if (c[\"product\"] == product[\"name\"]):\n",
    "      name = product[\"name\"]\n",
    "      price =  product[\"price\"]\n",
    "      quantity = c[\"quantity\"]\n",
    "      unit = product[\"unit\"]\n",
    "      unit_type = product[\"unit_type\"];\n",
    "\n",
    "      bill = price * quantity # LALU KEMUDIAN MENGHITUNG BILL NYA DENGAN MENGKALIKAN HARGA DENGAN JUMLAH PEMBELIAN PRODUK\n",
    "      total_bill += bill # KEMUDIAN BILL TERSEBUT DIAKUMULASIKAN DENGAN BILL-BILL SEBELUMNYA YANG DISIMPAN PADA VARIABLE `total_bill`\n",
    "\n",
    "      print(f\"{quantity * unit} {unit_type} {name}: Rp {bill}\")\n",
    "      break\n",
    "print(\"-----------------------------------\")\n",
    "\n",
    "# MENGECEK APAKAH JENIS PRODUK YANG DIBELI LEBIH DARI 3, JIKA YA MAKA BERIKAN DISKON SEBESAR 5%\n",
    "if (len(cart) >= 3):\n",
    "  discount = 0.05\n",
    "  total_discount = total_bill * discount\n",
    "  total_bill -= total_discount\n",
    "  print(f\"Potongan harga: {total_discount} ({discount * 100}%)\")\n",
    "\n",
    "print(f\"Total tagihan: Rp.{total_bill}\")\n",
    "print(\"--------------STRUK----------------\\n\")\n",
    "print(f\"Maka Kiki harus membayar sebesar Rp {total_bill}\")"
   ]
  },
  {
   "cell_type": "markdown",
   "metadata": {},
   "source": [
    "<h3>Soal 2</h3>\n",
    "Roni menabung pada bulan agustus yaitu setiap tanggal ganjil sejumlah Rp 50.000, setiap tanggal genap sejumlah RP 10.000 dan setiap tanggal kelipatan 5 sejumlah Rp 5.000, Berapakah total tabungan Roni diakhir bulan?"
   ]
  },
  {
   "cell_type": "markdown",
   "metadata": {},
   "source": [
    "<h1>Analyze Here</h1>\n",
    "\n",
    "Roni menabung selama bulan Agustus, berarti selama `31` hari. Kita akan membuat perulangan untuk setiap tanggal selama 31 hari, lalu mengecek setiap tanggalnya apakah tanggal ganjil, genap, atau kelipatan lima lalu menabung sesuai kondisi tanggal tersebut.\n",
    "\n",
    "Akan ada kemungkinan tanggal kelipatan lima juga merupakan tanggal ganjil atau genap, untuk itu yang pertama kita cek adalah apakah tanggalnya merupakan kelipatan lima, lalu jika tidak maka cek kembali apakah tanggalnya ganjil atau genap."
   ]
  },
  {
   "cell_type": "code",
   "execution_count": 8,
   "metadata": {},
   "outputs": [
    {
     "name": "stdout",
     "output_type": "stream",
     "text": [
      "Pada tanggal 1, Roni menabung Rp 50000, total tabungan Rp 50000\n",
      "Pada tanggal 2, Roni menabung Rp 10000, total tabungan Rp 60000\n",
      "Pada tanggal 3, Roni menabung Rp 50000, total tabungan Rp 110000\n",
      "Pada tanggal 4, Roni menabung Rp 10000, total tabungan Rp 120000\n",
      "Pada tanggal 5, Roni menabung Rp 5000, total tabungan Rp 125000\n",
      "Pada tanggal 6, Roni menabung Rp 10000, total tabungan Rp 135000\n",
      "Pada tanggal 7, Roni menabung Rp 50000, total tabungan Rp 185000\n",
      "Pada tanggal 8, Roni menabung Rp 10000, total tabungan Rp 195000\n",
      "Pada tanggal 9, Roni menabung Rp 50000, total tabungan Rp 245000\n",
      "Pada tanggal 10, Roni menabung Rp 5000, total tabungan Rp 250000\n",
      "Pada tanggal 11, Roni menabung Rp 50000, total tabungan Rp 300000\n",
      "Pada tanggal 12, Roni menabung Rp 10000, total tabungan Rp 310000\n",
      "Pada tanggal 13, Roni menabung Rp 50000, total tabungan Rp 360000\n",
      "Pada tanggal 14, Roni menabung Rp 10000, total tabungan Rp 370000\n",
      "Pada tanggal 15, Roni menabung Rp 5000, total tabungan Rp 375000\n",
      "Pada tanggal 16, Roni menabung Rp 10000, total tabungan Rp 385000\n",
      "Pada tanggal 17, Roni menabung Rp 50000, total tabungan Rp 435000\n",
      "Pada tanggal 18, Roni menabung Rp 10000, total tabungan Rp 445000\n",
      "Pada tanggal 19, Roni menabung Rp 50000, total tabungan Rp 495000\n",
      "Pada tanggal 20, Roni menabung Rp 5000, total tabungan Rp 500000\n",
      "Pada tanggal 21, Roni menabung Rp 50000, total tabungan Rp 550000\n",
      "Pada tanggal 22, Roni menabung Rp 10000, total tabungan Rp 560000\n",
      "Pada tanggal 23, Roni menabung Rp 50000, total tabungan Rp 610000\n",
      "Pada tanggal 24, Roni menabung Rp 10000, total tabungan Rp 620000\n",
      "Pada tanggal 25, Roni menabung Rp 5000, total tabungan Rp 625000\n",
      "Pada tanggal 26, Roni menabung Rp 10000, total tabungan Rp 635000\n",
      "Pada tanggal 27, Roni menabung Rp 50000, total tabungan Rp 685000\n",
      "Pada tanggal 28, Roni menabung Rp 10000, total tabungan Rp 695000\n",
      "Pada tanggal 29, Roni menabung Rp 50000, total tabungan Rp 745000\n",
      "Pada tanggal 30, Roni menabung Rp 5000, total tabungan Rp 750000\n",
      "Pada tanggal 31, Roni menabung Rp 50000, total tabungan Rp 800000\n",
      "\n",
      "Total tabungan roni pada akhir bulan agustus adalah Rp 800000\n"
     ]
    }
   ],
   "source": [
    "#Code here\n",
    "\n",
    "\n",
    "days = 31 # JUMLAH HARI SELAMA BULAN AGUSTUS\n",
    "day = 1 # TANGGAL\n",
    "\n",
    "total_money = 0 # JUMLAH TABUNGAN RONI PADA AWAL BULAN\n",
    "\n",
    "while(day <= days): # MELAKUKAN PERULANGAN DARI TANGGAL 1 SAMPAI TANGGAL 31\n",
    "\n",
    "  money = 0 # TABUNGAN RONI SETIAP TANGGALNYA\n",
    "  if(day % 5 == 0):\n",
    "    money = 5000 # RONI MENABUNG RP 5.000 PADA TANGGAL KELIPATAN 5\n",
    "  elif (day % 2 != 0):\n",
    "    money = 50_000 # RONI MENABUNG RP 50.000 PADA TANGGAL GANJIL\n",
    "  else:\n",
    "    money = 10_000 # RONI MENABUNG RP 10.000 PADA TANGGAL GENAP\n",
    "  \n",
    "  total_money += money # MENAMBAHKAN TABUNGAN RONI SETIAP HARINYA KE TOTAL TABUNGAN\n",
    "  print(f\"Pada tanggal {day}, Roni menabung Rp {money}, total tabungan Rp {total_money}\") # OUTPUT TABUNGAN RONI SETIAP TANGGALNYA\n",
    "  day += 1 # TAMBAH TANGGAL SEKARANG DENGAN 1\n",
    "\n",
    "print(f\"\\nTotal tabungan roni pada akhir bulan agustus adalah Rp {total_money}\") # OUTPUT TOTAL TABUNGAN RONI PADA AKHIR BULAN AGUSTUS"
   ]
  },
  {
   "cell_type": "markdown",
   "metadata": {},
   "source": [
    "<h3>Soal 3</h3>\n",
    "Saat hari raya, Deni ingin menukarkan uang sejumlah Rp 5.000.000 ke pecahan 20rb, 10rb, 5rb, 2rb. berapa jumlahnya yang didapatkan Deni jika 20rb maksimal 100, 10rb maksimal 50.Jika :\n",
    "<ol>\n",
    "    <li>3(a)Semua pecahan harus ada</li>\n",
    "    <li>3(b)Hanya pecahan 20rb, 10rb dan 5rb</li>\n",
    "    <li>3(c)Hanya pecahan 20rb, 10rb dan 2rb</li>\n",
    "</ol>"
   ]
  },
  {
   "cell_type": "markdown",
   "metadata": {},
   "source": [
    "<h1>Analyze Here</h1>\n",
    "....."
   ]
  },
  {
   "cell_type": "code",
   "execution_count": null,
   "metadata": {},
   "outputs": [],
   "source": [
    "#Code here\n",
    "...."
   ]
  },
  {
   "cell_type": "markdown",
   "metadata": {},
   "source": [
    "<h3>Soal 4</h3>\n",
    "Berapakah hasil dari (10/23-6+4-(20//3%2)) ?\n",
    "Lakukan analisa perhitungan dari hasil tersebut!\n",
    "Berdasarkan hasil tersebut urutkan operator yang dikerjakan!"
   ]
  },
  {
   "cell_type": "markdown",
   "metadata": {},
   "source": [
    "<h1>Analyze Here</h1>\n",
    "....."
   ]
  },
  {
   "cell_type": "code",
   "execution_count": 6,
   "metadata": {},
   "outputs": [],
   "source": [
    "#Code here\n"
   ]
  },
  {
   "cell_type": "markdown",
   "metadata": {},
   "source": [
    "<h3>Soal 5</h3>\n",
    "Jika terdapat string yaitu \"UFLOPYXTKJACSWRBGQZVDMEHIN\", maka susunlah nama kalian masing-masing dari data tersebut, berdasarkan index dari masing-masing huruf yang ada pada string tersebut!\n"
   ]
  },
  {
   "cell_type": "markdown",
   "metadata": {},
   "source": [
    "<h1>Analyze Here</h1>\n",
    "....."
   ]
  },
  {
   "cell_type": "code",
   "execution_count": null,
   "metadata": {},
   "outputs": [],
   "source": []
  }
 ],
 "metadata": {
  "kernelspec": {
   "display_name": "Python 3.10.5 64-bit",
   "language": "python",
   "name": "python3"
  },
  "language_info": {
   "codemirror_mode": {
    "name": "ipython",
    "version": 3
   },
   "file_extension": ".py",
   "mimetype": "text/x-python",
   "name": "python",
   "nbconvert_exporter": "python",
   "pygments_lexer": "ipython3",
   "version": "3.10.5"
  },
  "vscode": {
   "interpreter": {
    "hash": "e7370f93d1d0cde622a1f8e1c04877d8463912d04d973331ad4851f04de6915a"
   }
  }
 },
 "nbformat": 4,
 "nbformat_minor": 4
}
