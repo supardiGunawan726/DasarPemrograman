{
 "cells": [
  {
   "cell_type": "markdown",
   "id": "30b36029",
   "metadata": {},
   "source": [
    "## Tugas Dasar Pemrograman sesi 3\n",
    "\n",
    "### 1. Jenis tipe data beserta contohnya pada bahasa pemrograman python\n",
    "\n",
    "1. `Boolean`, menyatakan benar yaitu True(1) dan salah yaitu False(0)\n",
    "2. `String`, menyatakan karakter atau kalimat yang berupa huruf, angka yang diapit oleh tanda \" atau '\n",
    "3. `Integer`, Menyatakan bilangan bulat contohnya 25 atau 109\n",
    "4. `Float`, Menyatakan bilangan yang mempunyai koma contohnya 3.14 atau 0.99\n",
    "5. `Hexadecimal`, Menyatakan bilangan dalam format heksa (bilangan berbasis 16) contohnya 9a, fa, dan 1d3\n",
    "6. `Complex`, Menyatakan pasangan angka real dan imajiner contohnya 1 + 5j\n",
    "7. `List`, Data untaian yang menyimpan berbagai tipe data dan isinya bisa diubah-ubah contohnya ['xyz', 786, 2.23]\n",
    "8. `Tuple`, Data untaian yang menyimpan berbagai tipe data tapi isinya tidak bisa diubah contohnya ('xyz', 768, 2.23)\n",
    "9. `Dictionary`, Data untaian yang menyimpan berbagai tipe data berupa pasangan penunjuk dan nilai {'nama': 'adi','id':2}"
   ]
  },
  {
   "cell_type": "code",
   "execution_count": 1,
   "id": "6d9131d9",
   "metadata": {},
   "outputs": [
    {
     "name": "stdout",
     "output_type": "stream",
     "text": [
      "True <class 'bool'>\n",
      "Halo nama saya Supardi <class 'str'>\n",
      "1234567890 <class 'int'>\n",
      "3.14 <class 'float'>\n",
      "4095 <class 'int'>\n",
      "5j <class 'complex'>\n",
      "[1, '2', 123] <class 'list'>\n",
      "(0, 1, 2, 3, 4, 5) <class 'tuple'>\n",
      "{'nama': 'Supardi G', 'Kelas': 'TI22H'} <class 'dict'>\n"
     ]
    }
   ],
   "source": [
    "#Tipe data boolean\n",
    "tipeDataBoolean = True\n",
    "print(tipeDataBoolean, type(tipeDataBoolean))\n",
    "\n",
    "#Tipe data String\n",
    "tipeDataString = \"Halo nama saya Supardi\"\n",
    "print(tipeDataString, type(tipeDataString))\n",
    "\n",
    "#Tipe data Integer\n",
    "tipeDataInteger = 1234567890\n",
    "print(tipeDataInteger, type(tipeDataInteger))\n",
    "\n",
    "#Tipe data Float\n",
    "tipeDataFloat = 3.14\n",
    "print(tipeDataFloat, type(tipeDataFloat))\n",
    "\n",
    "#Tipe data Hexadecimal\n",
    "tipeDataHexadecimal = 0xfff\n",
    "print(tipeDataHexadecimal, type(tipeDataHexadecimal))\n",
    "\n",
    "#Tipe data Complex\n",
    "tipeDataComplex = 5j\n",
    "print(tipeDataComplex, type(tipeDataComplex))\n",
    "\n",
    "#Tipe data list\n",
    "tipeDataList = [1, \"2\", 123]\n",
    "print(tipeDataList, type(tipeDataList))\n",
    "\n",
    "#Tipe data Tuple\n",
    "tipeDataTuple = (0, 1, 2, 3, 4, 5)\n",
    "print(tipeDataTuple, type(tipeDataTuple))\n",
    "\n",
    "#Tipe data Dictionary\n",
    "tipeDataDictionary = {\"nama\": \"Supardi G\", \"Kelas\": \"TI22H\"}\n",
    "print(tipeDataDictionary, type(tipeDataDictionary))\n"
   ]
  },
  {
   "cell_type": "markdown",
   "id": "5cfdd9e7",
   "metadata": {},
   "source": [
    "### 2. Program menampilkan nama, nomor telepon dan NIM"
   ]
  },
  {
   "cell_type": "code",
   "execution_count": 2,
   "id": "2ce94826",
   "metadata": {},
   "outputs": [
    {
     "name": "stdout",
     "output_type": "stream",
     "text": [
      "Supardi G\n",
      "083823242073\n",
      "20220040084\n"
     ]
    }
   ],
   "source": [
    "#Nama\n",
    "print(\"Supardi G\")\n",
    "\n",
    "#Nomor Telepon\n",
    "print(\"083823242073\")\n",
    "\n",
    "#NIM\n",
    "print(\"20220040084\")"
   ]
  },
  {
   "cell_type": "markdown",
   "id": "fbffdd79",
   "metadata": {},
   "source": [
    "### 3. Program latihan penjumlahan dan pengurangan"
   ]
  },
  {
   "cell_type": "code",
   "execution_count": 3,
   "id": "e9fb5aa7",
   "metadata": {},
   "outputs": [
    {
     "name": "stdout",
     "output_type": "stream",
     "text": [
      "7800\n"
     ]
    }
   ],
   "source": [
    "angka1 = 5000\n",
    "angka2 = 2000\n",
    "angka3 = 200\n",
    "\n",
    "angka1 += 500\n",
    "angka2 += 500\n",
    "\n",
    "hasil = angka1 + angka2 - angka3\n",
    "print(hasil)"
   ]
  },
  {
   "cell_type": "markdown",
   "id": "dd519d21",
   "metadata": {},
   "source": [
    "### 4. Program mencari keliling lingkaran dan volume kubus"
   ]
  },
  {
   "cell_type": "code",
   "execution_count": 4,
   "id": "08970fc2",
   "metadata": {},
   "outputs": [
    {
     "name": "stdout",
     "output_type": "stream",
     "text": [
      "Masukan jari-jari: 7\n",
      "Jari-jari: 7.0\n",
      "hasilnya adalah: 43.96\n"
     ]
    }
   ],
   "source": [
    "#program mencari keliling lingkaran\n",
    "phi = 3.14\n",
    "r = float(input(\"Masukan jari-jari: \"))\n",
    "print(f\"Jari-jari: {r}\")\n",
    "\n",
    "hasil = 2 * phi * r\n",
    "print(f\"hasilnya adalah: {hasil}\")"
   ]
  },
  {
   "cell_type": "code",
   "execution_count": 5,
   "id": "e0f2dc9c",
   "metadata": {},
   "outputs": [
    {
     "name": "stdout",
     "output_type": "stream",
     "text": [
      "Masukan panjang sisi: 8\n",
      "Sisi-sisi: 8.0\n",
      "Hasilnya adalah: 512.0\n"
     ]
    }
   ],
   "source": [
    "#program mencari volume kubus\n",
    "s = float(input(\"Masukan panjang sisi: \"))\n",
    "print(f\"Sisi-sisi: {s}\")\n",
    "\n",
    "hasil = s * s * s\n",
    "print(f\"Hasilnya adalah: {hasil}\")"
   ]
  },
  {
   "cell_type": "code",
   "execution_count": null,
   "id": "4da5606e",
   "metadata": {},
   "outputs": [],
   "source": []
  }
 ],
 "metadata": {
  "kernelspec": {
   "display_name": "Python 3 (ipykernel)",
   "language": "python",
   "name": "python3"
  },
  "language_info": {
   "codemirror_mode": {
    "name": "ipython",
    "version": 3
   },
   "file_extension": ".py",
   "mimetype": "text/x-python",
   "name": "python",
   "nbconvert_exporter": "python",
   "pygments_lexer": "ipython3",
   "version": "3.9.12"
  },
  "vscode": {
   "interpreter": {
    "hash": "a38afa5305a34e533572c3796483b0647ea6eb02b41cd9fcb1f8571b2315c69e"
   }
  }
 },
 "nbformat": 4,
 "nbformat_minor": 5
}
