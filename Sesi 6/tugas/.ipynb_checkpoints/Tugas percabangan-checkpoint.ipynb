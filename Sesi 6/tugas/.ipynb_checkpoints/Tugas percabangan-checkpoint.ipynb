{
 "cells": [
  {
   "cell_type": "markdown",
   "id": "eb87aa59",
   "metadata": {},
   "source": [
    "# TUGAS KONDISI PERCABANGAN"
   ]
  },
  {
   "cell_type": "markdown",
   "id": "f46e0a9a",
   "metadata": {},
   "source": [
    "1. Sebuah wahana bermain 'Disney Island' akan memberikan tarif sesuai dengan tinggi dan umur anak dengan ketentuan sebagai berikut:\n",
    "\n",
    "<ul>\n",
    "    <li>Umur kurang dari 2 tahun: Tampilkan 'Dilarang masuk'</li>\n",
    "    <li>Umur kurang dari 4 tahun: Rp 30.000. Jika tinggi anak umur 2-3 tahun melebihi 70 cm maka tarif akan bertambah 10.000\n",
    "</li>\n",
    "    <li>Umur kurang dari 7 tahun: Rp 40.000. Jika tinggi anak umur 4-6 tahun melebih 120 cm maka tarif akan bertambah 15.000</li>\n",
    "    <li>Umur kurang dari 10 tahun: Rp 50.000. Jika tinggi anak umur 8-9 tahun melebih 150 cm maka tarif akan bertambah 20.000</li>\n",
    "    <li>Umur 10 tahun keatas: Rp 80.000</li>\n",
    "</ul>\n",
    "\n",
    "Buatlah program untuk menampilkan tarif harga sesuai umur dan tinggi seorang anak!"
   ]
  },
  {
   "cell_type": "code",
   "execution_count": 25,
   "id": "e394b886",
   "metadata": {},
   "outputs": [
    {
     "name": "stdout",
     "output_type": "stream",
     "text": [
      "Masukan umur anak (tahun): 8\n",
      "Masukan tinggi anak (CM): 155\n",
      "harga untuk anak dengan umur 8 tahun dengan tinggi 155 cm adalah 70000 rupiah\n"
     ]
    }
   ],
   "source": [
    "umur = int(input(\"Masukan umur anak (tahun): \"))\n",
    "tinggi = int(input(\"Masukan tinggi anak (CM): \"))\n",
    "harga = 0\n",
    "textHarga = \"harga untuk anak dengan umur {} tahun dengan tinggi {} cm adalah {} rupiah\"\n",
    "\n",
    "if (umur < 2 ):\n",
    "    print(\"Dilarang masuk\")\n",
    "elif (umur < 4):\n",
    "    harga = 30_000\n",
    "    if (tinggi > 70):\n",
    "        harga += 10_000\n",
    "    print(textHarga.format(umur, tinggi, harga))\n",
    "elif (umur < 7):\n",
    "    harga = 40_000\n",
    "    if (tinggi > 120):\n",
    "        harga += 15_000\n",
    "    print(textHarga.format(umur, tinggi, harga))\n",
    "elif (umur < 10):\n",
    "    harga = 50_000\n",
    "    if (umur > 7 and tinggi > 150):\n",
    "        harga += 20_000\n",
    "    print(textHarga.format(umur, tinggi, harga))\n",
    "else:\n",
    "    harga = 80_000\n",
    "    print(textHarga.format(umur, tinggi, harga))"
   ]
  },
  {
   "cell_type": "markdown",
   "id": "1ccd5d33",
   "metadata": {},
   "source": [
    "2. Terdapat sebuah jurnal yang menuliskan teorinya bahwa olahraga dapat membakar kalori yang terkandung dalam tubuh manusia. Hal tersebut berbanding lurus dengan lama waktu yang dilakukan. Berikut ini adalah beberapa teori tersebut:\n",
    "\n",
    "<ul>\n",
    "    <li>Olahraga lari membakar 60 kalori setiap 5 menit</li>\n",
    "    <li>Olahraga push-up membakar 200 kalori setiap 30 menit</li>\n",
    "    <li>Olahraga plank membakar 5 kalori selama 1 menit</li>\n",
    "</ul>\n",
    "\n",
    "Buatlah program berdasarkan uraian tersebut untuk menghitung berapa jumlah kalori yang terbakar setelah melakukan aktivitas olahraga tersebut dengan ketentuan setiap orang boleh melakukan aktivitasnya lebih dari 1 (satu)."
   ]
  },
  {
   "cell_type": "code",
   "execution_count": 47,
   "id": "6f7b5f87",
   "metadata": {},
   "outputs": [
    {
     "name": "stdout",
     "output_type": "stream",
     "text": [
      "Apakah kamu melakukan olahraga lari? jawab ya/tidak : ya\n",
      "Berapa menit? 60\n",
      "Apakah kamu melakukan olahraga push-up? jawab ya/tidak : ya\n",
      "Berapa menit? 15\n",
      "Apakah kamu melakukan olahraga plank? jawab ya/tidak : ya\n",
      "Berapa menit? 5\n",
      "\n",
      "Kalori yang terbakar dari tubuhmu adalah 845 kalori\n"
     ]
    }
   ],
   "source": [
    "kalori = 0\n",
    "\n",
    "lari = input(\"Apakah kamu melakukan olahraga lari? jawab ya/tidak : \") == 'ya'\n",
    "if (lari):\n",
    "    menit = int(input(\"Berapa menit? \"))\n",
    "    kalori += menit * (60 / 5)\n",
    "\n",
    "pushUp = input(\"Apakah kamu melakukan olahraga push-up? jawab ya/tidak : \") == 'ya'\n",
    "if (pushUp):\n",
    "    menit = int(input(\"Berapa menit? \"))\n",
    "    kalori += menit * (200 / 30)\n",
    "    \n",
    "plank = input(\"Apakah kamu melakukan olahraga plank? jawab ya/tidak : \") == 'ya'\n",
    "if (plank):\n",
    "    menit = int(input(\"Berapa menit? \"))\n",
    "    kalori += menit * 5\n",
    "    \n",
    "kalori = round(kalori)\n",
    "\n",
    "if (kalori > 0):\n",
    "    print(f\"\\nKalori yang terbakar dari tubuhmu adalah {kalori} kalori\")\n",
    "else:\n",
    "    print(\"\\nTidak ada kalori yang terbakar, kamu tidak berolahraga :(\")"
   ]
  }
 ],
 "metadata": {
  "kernelspec": {
   "display_name": "Python 3 (ipykernel)",
   "language": "python",
   "name": "python3"
  },
  "language_info": {
   "codemirror_mode": {
    "name": "ipython",
    "version": 3
   },
   "file_extension": ".py",
   "mimetype": "text/x-python",
   "name": "python",
   "nbconvert_exporter": "python",
   "pygments_lexer": "ipython3",
   "version": "3.9.12"
  }
 },
 "nbformat": 4,
 "nbformat_minor": 5
}
