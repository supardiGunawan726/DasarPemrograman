{
 "cells": [
  {
   "cell_type": "code",
   "execution_count": null,
   "metadata": {},
   "outputs": [],
   "source": [
    "kalimat = input(\"kalimat: \")\n",
    "kalimat_baru = \"\"\n",
    "\n",
    "for huruf in kalimat:\n",
    "    if huruf.lower() == \"a\":\n",
    "        kalimat_baru += \"4\"\n",
    "    elif huruf.lower() == \"e\":\n",
    "        kalimat_baru += \"3\"\n",
    "    elif huruf == \"L\":\n",
    "        kalimat_baru += \"7\"\n",
    "    elif huruf == \"S\":\n",
    "        kalimat_baru += \"5\"\n",
    "    else:\n",
    "        kalimat_baru += huruf\n",
    "\n",
    "print(f\"\\nkalimat lama: {kalimat}\")\n",
    "print(f\"kalimat baru: {kalimat_baru}\\n\")"
   ]
  }
 ],
 "metadata": {
  "kernelspec": {
   "display_name": "Python 3 (ipykernel)",
   "language": "python",
   "name": "python3"
  },
  "language_info": {
   "codemirror_mode": {
    "name": "ipython",
    "version": 3
   },
   "file_extension": ".py",
   "mimetype": "text/x-python",
   "name": "python",
   "nbconvert_exporter": "python",
   "pygments_lexer": "ipython3",
   "version": "3.9.13"
  },
  "vscode": {
   "interpreter": {
    "hash": "31f2aee4e71d21fbe5cf8b01ff0e069b9275f58929596ceb00d14d90e3e16cd6"
   }
  }
 },
 "nbformat": 4,
 "nbformat_minor": 2
}
